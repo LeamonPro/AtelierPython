{
 "cells": [
  {
   "cell_type": "code",
   "execution_count": 4,
   "metadata": {},
   "outputs": [
    {
     "name": "stdout",
     "output_type": "stream",
     "text": [
      "{'idPage10403_Record2': ' dit dia rebere de Juan Romeu pages de St jaume de Sesoliveres viudo | ab Hieronyma viuda de juan Marti pages de St Sadorni de Subirats ', 'idPage10360_Record9': ' dit dia rebere de Miquel Riera de Granollers sabater fill de Jua Riera | blanquer defunct y de Miquela ab Marianna donsella filla de Bernat | Major sastre de Vilassar y de Paula ', 'idPage10446_Record3': ' Diumege a 3 rebere del Sr Luys Altarriba mercader de Bara fill | de Juan Altarriba mercader de Bellianes y de Paula defuncts ab | la Sra Eugenia donsella filla de Antoni Molner mercader de Bara | defunct y de la Sra Hieronyma ', 'idPage10416_Record2': ' dit dia rebere de Benet Gorgui pages de Corro devall viudo ab Catherina | viuda de Antoni Rocha tavarner de LLoret bisbat de Girona ', 'idPage10410_Record7': ' dit dia rebere de Barthomeu ferrer ferrer de St Sadorni de Subirats | fill de Andreu ferrer ferrer y de Hieronyma defuncts ab Hierony | ma donsella filla de Antoni Pallerols pages de Labern y de Violant | defuncts ', 'idPage10447_Record1': ' Dijous a 7 rebere de Juan Guardia pages de St Andreu de Palomar | fill de Luys Guardia pages y de Montserrada ab francisca donsella | filla de francesch Oller pages de dita parrochia y de francisca ', 'idPage10455_Record5': ' Dit dia rebere de Luys Gornes sabater de Mataro fill de Luys Gornes | sabater y de Antiga ab Maria donsella filla de francesch Gontes | vedrier de Mataro y de t ', 'idPage10416_Record7': ' Dimecres a 31 rebere de Miquel Galcera pages de Aulesa de Montse | rat fill de Antich Galcera pages y de Margarida defuncts ab | Margarida donsella filla de Montserrat Aymerich parayre y | de t defuncta tots de dita parrochia ', 'idPage10417_Record2': ' Dit dia rebere de Pere Pellisser assahonador de Guimera habitant en | Bara viudo ab Antonia donsella filla de Barthomeu Verges pages | de Baga bisbat de Urgell defunct y de joana ', 'idPage10450_Record7': ' Dimars a 26 rebere de Jua Passanant jove sabater del regne de | franÃ§a habitant en Bara ab Margarida donsella filla de Jua | Benavaja pages de Saldes bisbat de Urgell y de t defuncta ', 'idPage10461_Record5': ' Dit dia rebere de Joan Beli hortola del regne de franÃ§a habitant en | Bara ab Elisabeth donsella filla de Antoni Joells corder de Bara | y de Eularia defuncta ', 'idPage10360_Record6': ' dit dia rebere de Bernat Call pages de St Esteva de Palau tordera fill | de Guille Call pages y de Catherina defunct ab Maria donsella filla | de Guillem Boix pages de la Mora bisbat de Vich y de Margarida ', 'idPage10366_Record6': ' dit dia rebere de Esteva Sayol botiguer de teles habitant en Bara '}\n"
     ]
    }
   ],
   "source": [
    "import re\n",
    "f=open(\"C:\\\\Users\\\\ousem\\\\Documents\\\\Python\\\\filestext\\\\data.txt\").read().splitlines()\n",
    "records={}\n",
    "\n",
    "k=[]\n",
    "for l in f:\n",
    "    ch=''\n",
    "    l=re.sub(\"{.*?}\",\"\",l)\n",
    "    l=l.replace('|',' ')\n",
    "    k.append(l.split(\"ok 154 10 0 0 4000 70\")[0][0:19])\n",
    "    \n",
    "records=dict.fromkeys(k)\n",
    "for l in f:\n",
    "    l=re.sub(\"{.*?}\",\"\",l)\n",
    "    l=l.replace('|',' ')\n",
    "    k=l.split(\"ok 154 10 0 0 4000 70\")\n",
    "    for key in records.keys():\n",
    "        if(l.find(key)>-1):\n",
    "            if(records.get(key) == None):\n",
    "                ch=\"\"\n",
    "            else:\n",
    "                ch=records.get(key)+\"|\"\n",
    "            ch=ch+k[1]\n",
    "            records[key]=ch\n",
    "\n",
    "print(records)"
   ]
  },
  {
   "cell_type": "code",
   "execution_count": null,
   "metadata": {},
   "outputs": [],
   "source": []
  }
 ],
 "metadata": {
  "interpreter": {
   "hash": "3538452c4bba0c408730e56615d685ad5da58497f0f246475a966f0fdf309a5f"
  },
  "kernelspec": {
   "display_name": "Python 3.8.8 64-bit ('base': conda)",
   "language": "python",
   "name": "python3"
  },
  "language_info": {
   "codemirror_mode": {
    "name": "ipython",
    "version": 3
   },
   "file_extension": ".py",
   "mimetype": "text/x-python",
   "name": "python",
   "nbconvert_exporter": "python",
   "pygments_lexer": "ipython3",
   "version": "3.8.8"
  },
  "orig_nbformat": 4
 },
 "nbformat": 4,
 "nbformat_minor": 2
}
